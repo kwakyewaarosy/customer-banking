{
 "cells": [
  {
   "cell_type": "code",
   "execution_count": 49,
   "id": "5f771e96-38c0-485c-8475-83366afaa4d5",
   "metadata": {},
   "outputs": [
    {
     "name": "stdout",
     "output_type": "stream",
     "text": [
      "Enter Savings Account Details:\n"
     ]
    },
    {
     "name": "stdin",
     "output_type": "stream",
     "text": [
      "Enter initial balance:  3000\n",
      "Enter interest rate (as a decimal, e.g., 0.05):  0.5\n"
     ]
    },
    {
     "name": "stdout",
     "output_type": "stream",
     "text": [
      "Savings Account - Updated Balance: $4500.00, Interest Earned: $1500.00\n",
      "\n",
      "Enter CD Account Details:\n"
     ]
    },
    {
     "name": "stdin",
     "output_type": "stream",
     "text": [
      "Enter initial balance:  3000\n",
      "Enter interest rate (as a decimal, e.g., 0.05):  0.05\n"
     ]
    },
    {
     "name": "stdout",
     "output_type": "stream",
     "text": [
      "CD Account - Updated Balance: $3150.00, Interest Earned: $150.00\n"
     ]
    }
   ],
   "source": [
    "# Define the Account class\n",
    "class Account:\n",
    "    def __init__(self, balance, interest_rate):\n",
    "        self.balance = balance\n",
    "        self.interest_rate = interest_rate\n",
    "\n",
    "    def calculate_interest(self):\n",
    "        return self.balance * self.interest_rate\n",
    "\n",
    "    def update_balance(self, interest):\n",
    "        self.balance += interest\n",
    "\n",
    "# Create savings account function\n",
    "def create_savings_account(balance, interest_rate):\n",
    "    savings_account = Account(balance, interest_rate)\n",
    "    interest_earned = savings_account.calculate_interest()\n",
    "    savings_account.update_balance(interest_earned)\n",
    "    return savings_account.balance, interest_earned\n",
    "\n",
    "# Create CD account function\n",
    "def create_cd_account(balance, interest_rate):\n",
    "    cd_account = Account(balance, interest_rate)\n",
    "    interest_earned = cd_account.calculate_interest()\n",
    "    cd_account.update_balance(interest_earned)\n",
    "    return cd_account.balance, interest_earned\n",
    "\n",
    "# Main function\n",
    "def main():\n",
    "    print(\"Enter Savings Account Details:\")\n",
    "    try:\n",
    "        balance = float(input(\"Enter initial balance: \"))\n",
    "        interest_rate = float(input(\"Enter interest rate (as a decimal, e.g., 0.05): \"))\n",
    "        updated_balance, interest_earned = create_savings_account(balance, interest_rate)\n",
    "        print(f\"Savings Account - Updated Balance: ${updated_balance:.2f}, Interest Earned: ${interest_earned:.2f}\")\n",
    "    except ValueError:\n",
    "        print(\"Invalid input. Please enter numeric values.\")\n",
    "        return\n",
    "\n",
    "    print(\"\\nEnter CD Account Details:\")\n",
    "    try:\n",
    "        balance = float(input(\"Enter initial balance: \"))\n",
    "        interest_rate = float(input(\"Enter interest rate (as a decimal, e.g., 0.05): \"))\n",
    "        updated_balance, interest_earned = create_cd_account(balance, interest_rate)\n",
    "        print(f\"CD Account - Updated Balance: ${updated_balance:.2f}, Interest Earned: ${interest_earned:.2f}\")\n",
    "    except ValueError:\n",
    "        print(\"Invalid input. Please enter numeric values.\")\n",
    "        return\n",
    "\n",
    "# Entry point for script\n",
    "if __name__ == \"__main__\":\n",
    "    main()\n"
   ]
  },
  {
   "cell_type": "code",
   "execution_count": null,
   "id": "d941afd2-e277-429b-9f8d-674b7315439e",
   "metadata": {},
   "outputs": [],
   "source": []
  }
 ],
 "metadata": {
  "kernelspec": {
   "display_name": "Python 3 (ipykernel)",
   "language": "python",
   "name": "python3"
  },
  "language_info": {
   "codemirror_mode": {
    "name": "ipython",
    "version": 3
   },
   "file_extension": ".py",
   "mimetype": "text/x-python",
   "name": "python",
   "nbconvert_exporter": "python",
   "pygments_lexer": "ipython3",
   "version": "3.12.7"
  }
 },
 "nbformat": 4,
 "nbformat_minor": 5
}
